{
 "cells": [
  {
   "cell_type": "code",
   "execution_count": 2,
   "id": "43ef1fc4",
   "metadata": {},
   "outputs": [
    {
     "name": "stdout",
     "output_type": "stream",
     "text": [
      "hi\n"
     ]
    }
   ],
   "source": [
    "print(\"hi\")"
   ]
  },
  {
   "cell_type": "markdown",
   "id": "1ce18cbc",
   "metadata": {},
   "source": [
    "# heading1"
   ]
  },
  {
   "cell_type": "markdown",
   "id": "2ca525a7",
   "metadata": {},
   "source": [
    "## heading2"
   ]
  },
  {
   "cell_type": "markdown",
   "id": "21409853",
   "metadata": {},
   "source": [
    "### heading3"
   ]
  },
  {
   "cell_type": "markdown",
   "id": "e47f0268",
   "metadata": {},
   "source": [
    "#### heading4"
   ]
  },
  {
   "cell_type": "markdown",
   "id": "89f7cab5",
   "metadata": {},
   "source": [
    "##### heading5"
   ]
  },
  {
   "cell_type": "markdown",
   "id": "c3bdeeda",
   "metadata": {},
   "source": [
    "###### heading6"
   ]
  },
  {
   "cell_type": "markdown",
   "id": "91e89aaf",
   "metadata": {},
   "source": [
    ">This is a good day"
   ]
  },
  {
   "cell_type": "markdown",
   "id": "e3e96d81",
   "metadata": {},
   "source": [
    "* list 1\n",
    "* list 2\n",
    "* list 3"
   ]
  },
  {
   "cell_type": "markdown",
   "id": "41c8bb78",
   "metadata": {},
   "source": [
    "**bold words**"
   ]
  },
  {
   "cell_type": "markdown",
   "id": "339d18d1",
   "metadata": {},
   "source": [
    "*italicized words*"
   ]
  },
  {
   "cell_type": "markdown",
   "id": "befa8485",
   "metadata": {},
   "source": [
    "<a href=\"https://www.google.com/\">google link</a>"
   ]
  },
  {
   "cell_type": "markdown",
   "id": "06248e77",
   "metadata": {},
   "source": [
    "![basketball](https://media.istockphoto.com/photos/basketball-picture-id170096587?k=20&m=170096587&s=612x612&w=0&h=Umu6ELi7aPSpCPE7hMPKWVYZUoRfdNek2ieBI5RrCCs=)"
   ]
  },
  {
   "cell_type": "code",
   "execution_count": null,
   "id": "62f29ab3",
   "metadata": {},
   "outputs": [],
   "source": []
  }
 ],
 "metadata": {
  "kernelspec": {
   "display_name": "Python 3 (ipykernel)",
   "language": "python",
   "name": "python3"
  },
  "language_info": {
   "codemirror_mode": {
    "name": "ipython",
    "version": 3
   },
   "file_extension": ".py",
   "mimetype": "text/x-python",
   "name": "python",
   "nbconvert_exporter": "python",
   "pygments_lexer": "ipython3",
   "version": "3.9.12"
  }
 },
 "nbformat": 4,
 "nbformat_minor": 5
}
